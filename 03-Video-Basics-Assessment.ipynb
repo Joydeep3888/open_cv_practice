{
 "cells": [
  {
   "cell_type": "markdown",
   "metadata": {},
   "source": [
    "<a href=\"https://www.pieriandata.com\"><img src=\"../DATA/Logo.jpg\"></a>\n",
    "\n",
    "<em text-align:center>Copyright Pierian Data Inc.</em>"
   ]
  },
  {
   "cell_type": "markdown",
   "metadata": {},
   "source": [
    "# Video Basics Assessment \n",
    "\n",
    "* **Note: This assessment is quite hard! Feel free to treat it as a code along and jump to the solutions** *\n",
    "\n",
    "## Project Task\n",
    "\n",
    "**You only have one task here. Create a program that reads in a live stream from a camera on your computer (or if you don't have a camera, just open up a video file). Then whenever you click the left mouse button down, create a blue circle around where you've clicked. Check out the video for an example of what the final project should look like**"
   ]
  },
  {
   "cell_type": "markdown",
   "metadata": {},
   "source": [
    "**Guide**\n",
    "\n",
    "* Create a draw_circle function for the callback function\n",
    "* Use two events cv2.EVENT_LBUTTONDOWN and cv2.EVENT_LBUTTONUP\n",
    "* Use a boolean variable to keep track if the mouse has been clicked up and down based on the events above\n",
    "* Use a tuple to keep track of the x and y where the mouse was clicked.\n",
    "* You should be able to then draw a circle on the frame based on the x,y coordinates from the Event \n",
    "\n",
    "Check out the skeleton guide below:"
   ]
  },
  {
   "cell_type": "code",
   "execution_count": 1,
   "metadata": {},
   "outputs": [],
   "source": [
    "#interactive drawing\n",
    "\n",
    "import cv2\n",
    "\n",
    "#call back function\n",
    "\n",
    "def draw_circle(event,x,y,flags,param):\n",
    "    \n",
    "    global left_clicked,pt1\n",
    "    \n",
    "    if event==cv2.EVENT_LBUTTONDOWN:\n",
    "        pt1=(x,y)\n",
    "        left_clicked=False\n",
    "        \n",
    "    if event==cv2.EVENT_LBUTTONUP:\n",
    "        left_clicked=True\n",
    "          \n",
    "            \n",
    "#global variable\n",
    "\n",
    "pt1=(0,0)\n",
    "\n",
    "left_clicked=False\n",
    "\n",
    "#connect to call back\n",
    "\n",
    "capture=cv2.VideoCapture(0)\n",
    "cv2.namedWindow('Test')\n",
    "cv2.setMouseCallback('Test',draw_circle)\n",
    "\n",
    "\n",
    "while True: \n",
    "    ret,frame=capture.read()\n",
    "    \n",
    "    #drawing based on global variable\n",
    "    if left_clicked:\n",
    "        cv2.circle(frame,center=pt1,radius=50,color=(0,0,255), thickness=5)\n",
    "     \n",
    "    cv2.imshow('Test',frame)\n",
    "    \n",
    "    if cv2.waitKey(10) & 0xFF==ord('q'):\n",
    "        break\n",
    "    \n",
    "capture.release()\n",
    "cv2.destroyAllWindows()\n",
    "    "
   ]
  },
  {
   "cell_type": "code",
   "execution_count": null,
   "metadata": {},
   "outputs": [],
   "source": []
  }
 ],
 "metadata": {
  "kernelspec": {
   "display_name": "Python 3",
   "language": "python",
   "name": "python3"
  },
  "language_info": {
   "codemirror_mode": {
    "name": "ipython",
    "version": 3
   },
   "file_extension": ".py",
   "mimetype": "text/x-python",
   "name": "python",
   "nbconvert_exporter": "python",
   "pygments_lexer": "ipython3",
   "version": "3.6.6"
  }
 },
 "nbformat": 4,
 "nbformat_minor": 2
}
